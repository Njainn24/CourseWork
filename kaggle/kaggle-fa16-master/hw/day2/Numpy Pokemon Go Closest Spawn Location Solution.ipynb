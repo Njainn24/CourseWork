{
 "cells": [
  {
   "cell_type": "markdown",
   "metadata": {},
   "source": [
    "# Pokemon Go Closest Spawn Points (Due 9/16)"
   ]
  },
  {
   "cell_type": "markdown",
   "metadata": {},
   "source": [
    "The goal of this assignment is to get you wrangling with numpy and data. In general, you will be using pandas for 90% of your data analysis and modeling but for the other 10%, numpy is still used. This task is one of them (okay, you can actually still do most of this in pandas but it's still very good to know how to do with numpy:) ) and will also serve as a gentle introduction to the concept of nearest neighbors later on in the course."
   ]
  },
  {
   "cell_type": "markdown",
   "metadata": {},
   "source": [
    "Below is a file that contains latitude and longitude coordinates of spawn locations in UC Berkeley's campus. Each spawn location spawns a certain pokemon at a particular time each hour according to some distribution. Naturally, standing in a spot with multiple spawn points close to one another would increase the rate of Pokemon to catch. Your first task is to plot these points to get a general sense of how the spawnpoints are scattered."
   ]
  },
  {
   "cell_type": "code",
   "execution_count": 6,
   "metadata": {
    "collapsed": true
   },
   "outputs": [],
   "source": [
    "%matplotlib inline"
   ]
  },
  {
   "cell_type": "code",
   "execution_count": 7,
   "metadata": {
    "collapsed": true
   },
   "outputs": [],
   "source": [
    "import numpy as np\n",
    "import matplotlib.pyplot as plt"
   ]
  },
  {
   "cell_type": "code",
   "execution_count": 8,
   "metadata": {
    "collapsed": true
   },
   "outputs": [],
   "source": [
    "#Reading in the data\n",
    "spawns = np.loadtxt(\"pogo_spawns_data.csv\",delimiter=\",\") #Fill in the path to your file! "
   ]
  },
  {
   "cell_type": "markdown",
   "metadata": {},
   "source": [
    "## Problem 1"
   ]
  },
  {
   "cell_type": "markdown",
   "metadata": {},
   "source": [
    "Each row in the variable **spawns** corresponds to a unique Pokemon spawn point. The first column is latitude and the second column is longitude. Make a scatter plot of these spawn locations and comment on at least one thing you find interesting. It might be useful to know that the center of the search space is located on top of Maximino Martinez  Commons. You can read more about plots [here](http://www.scipy-lectures.org/intro/matplotlib/matplotlib.html). \n",
    "\n",
    "Note: Make sure your x and y axes correspond to longitude and latitude, respectively!"
   ]
  },
  {
   "cell_type": "code",
   "execution_count": 9,
   "metadata": {
    "collapsed": false
   },
   "outputs": [
    {
     "data": {
      "text/plain": [
       "<matplotlib.collections.PathCollection at 0x112dc2860>"
      ]
     },
     "execution_count": 9,
     "metadata": {},
     "output_type": "execute_result"
    },
    {
     "data": {
      "image/png": "[encoded data removed]",
      "text/plain": [
       "<matplotlib.figure.Figure at 0x11288acc0>"
      ]
     },
     "metadata": {},
     "output_type": "display_data"
    }
   ],
   "source": [
    "#Problem 1 Code Here\n",
    "plt.scatter(spawns[:,1],spawns[:,0])"
   ]
  },
  {
   "cell_type": "markdown",
   "metadata": {},
   "source": [
    "## Problem 2"
   ]
  },
  {
   "cell_type": "markdown",
   "metadata": {},
   "source": [
    "It would be great if we can identify a spot in Berkeley that has the densest cluster of spawn points. We will talk about clustering later, but for now, a simpler task we can do is to identify two spawn points that are closest to each other out of all spawn points. The distance between two points can be defined in many ways. We recommend you use the euclidean distance:\n",
    "\n",
    "$$\n",
    "    Euclidean\\enspace Distance = \\sqrt{(x_2-x_1)^2 + (y_2-y_1)^2}\n",
    "$$\n",
    "\n",
    "where x and y are your longitude and latitude coordinates.\n",
    "\n",
    "You may find the following functions helpful:\n",
    "\n",
    "1. np.zeros - initializes an array of zeros\n",
    "1. np.where - gives the index of where a certain value is located in an array\n",
    "1. np.min - returns the minimum value of a given array\n",
    "\n"
   ]
  },
  {
   "cell_type": "code",
   "execution_count": 10,
   "metadata": {
    "collapsed": false
   },
   "outputs": [
    {
     "data": {
      "text/plain": [
       "array([[  37.86991261, -122.26738262],\n",
       "       [  37.86998704, -122.26738262]])"
      ]
     },
     "execution_count": 10,
     "metadata": {},
     "output_type": "execute_result"
    }
   ],
   "source": [
    "#Problem 2 Code Here\n",
    "dist_array = np.zeros((len(spawns),len(spawns)))\n",
    "for i in range(len(spawns)):\n",
    "\tfor j in range(len(spawns)):\n",
    "\t\tdist_array[i,j] = np.sum((spawns[i]-spawns[j])**2)\n",
    "\n",
    "dist_array = np.where(dist_array == 0, 1e10,dist_array) #Set distances in diagonal to be arbitrarily high b/c we don't care about them\n",
    "minimum_dist = np.min(dist_array)\n",
    "min_index = np.where(dist_array==minimum_dist)\n",
    "spawns[min_index[0]]"
   ]
  },
  {
   "cell_type": "markdown",
   "metadata": {},
   "source": [
    "## Problem 3"
   ]
  },
  {
   "cell_type": "markdown",
   "metadata": {},
   "source": [
    "Where are these two spawn points located? Use Google Maps or equivalent to find which place in Berkeley you just identified and answer below."
   ]
  },
  {
   "cell_type": "markdown",
   "metadata": {},
   "source": [
    "Between Games of Berkeley and Jupiter."
   ]
  },
  {
   "cell_type": "code",
   "execution_count": null,
   "metadata": {
    "collapsed": true
   },
   "outputs": [],
   "source": []
  }
 ],
 "metadata": {
  "kernelspec": {
   "display_name": "Python 3",
   "language": "python",
   "name": "python3"
  },
  "language_info": {
   "codemirror_mode": {
    "name": "ipython",
    "version": 3
   },
   "file_extension": ".py",
   "mimetype": "text/x-python",
   "name": "python",
   "nbconvert_exporter": "python",
   "pygments_lexer": "ipython3",
   "version": "3.5.2"
  }
 },
 "nbformat": 4,
 "nbformat_minor": 0
}
