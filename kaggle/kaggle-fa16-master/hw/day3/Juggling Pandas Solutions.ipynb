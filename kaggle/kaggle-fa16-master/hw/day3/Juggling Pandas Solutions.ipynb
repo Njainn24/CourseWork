{
 "cells": [
  {
   "cell_type": "markdown",
   "metadata": {},
   "source": [
    "# Juggling Pandas Solutions"
   ]
  },
  {
   "cell_type": "markdown",
   "metadata": {},
   "source": [
    "## Practice with pandas syntax"
   ]
  },
  {
   "cell_type": "markdown",
   "metadata": {},
   "source": [
    "To reiterate, this \"assignment\" is not graded but is meerly practice on getting the hang of pandas syntax. There are slight differences to note here that are different from numpy so do keep that in mind! If anything, you should be focusing on learning this stuff than last lecture's material in the event you get confused on which is which."
   ]
  },
  {
   "cell_type": "markdown",
   "metadata": {},
   "source": [
    "The data set we will be using is pulled straight from Kaggle's Featured Datasets. It contains 3195 records of counties with information of how \"diverse\" it is according the the distribution of races in it for the year 2013. There are 7 different races all numeric with proportions of each race in each county. Answering the tasks below will get you more comfortable using pandas and its dataframe structure (R users, this should be a natural switch for you guys)."
   ]
  },
  {
   "cell_type": "code",
   "execution_count": 6,
   "metadata": {
    "collapsed": false
   },
   "outputs": [],
   "source": [
    "from pandas import DataFrame, Series #instead of calling pd.DataFrame every time we use it, we can just call \"DataFrame\"\n",
    "import pandas as pd\n",
    "import numpy as np\n",
    "import matplotlib.pyplot as plt\n",
    "\n",
    "%matplotlib inline \n",
    "#Magic function to magically make plots appear when you call them"
   ]
  },
  {
   "cell_type": "markdown",
   "metadata": {},
   "source": [
    "### Problem 1"
   ]
  },
  {
   "cell_type": "code",
   "execution_count": 7,
   "metadata": {
    "collapsed": false
   },
   "outputs": [],
   "source": [
    "#Read in the csv file found in the directory of this folder\n",
    "\n",
    "di = pd.read_csv(\"diversityindex.csv\")"
   ]
  },
  {
   "cell_type": "code",
   "execution_count": 8,
   "metadata": {
    "collapsed": false
   },
   "outputs": [
    {
     "data": {
      "text/html": [
       "<div>\n",
       "<table border=\"1\" class=\"dataframe\">\n",
       "  <thead>\n",
       "    <tr style=\"text-align: right;\">\n",
       "      <th></th>\n",
       "      <th>Location</th>\n",
       "      <th>Diversity-Index</th>\n",
       "      <th>Black or African American alone, percent, 2013</th>\n",
       "      <th>American Indian and Alaska Native alone, percent, 2013</th>\n",
       "      <th>Asian alone, percent, 2013</th>\n",
       "      <th>Native Hawaiian and Other Pacific Islander alone, percent,</th>\n",
       "      <th>Two or More Races, percent, 2013</th>\n",
       "      <th>Hispanic or Latino, percent, 2013</th>\n",
       "      <th>White alone, not Hispanic or Latino, percent, 2013</th>\n",
       "    </tr>\n",
       "  </thead>\n",
       "  <tbody>\n",
       "    <tr>\n",
       "      <th>0</th>\n",
       "      <td>Aleutians West Census Area, AK</td>\n",
       "      <td>0.769346</td>\n",
       "      <td>7.4</td>\n",
       "      <td>13.8</td>\n",
       "      <td>31.1</td>\n",
       "      <td>2.3</td>\n",
       "      <td>4.8</td>\n",
       "      <td>14.6</td>\n",
       "      <td>29.2</td>\n",
       "    </tr>\n",
       "    <tr>\n",
       "      <th>1</th>\n",
       "      <td>Queens County, NY</td>\n",
       "      <td>0.742224</td>\n",
       "      <td>20.9</td>\n",
       "      <td>1.3</td>\n",
       "      <td>25.2</td>\n",
       "      <td>0.2</td>\n",
       "      <td>2.7</td>\n",
       "      <td>28.0</td>\n",
       "      <td>26.7</td>\n",
       "    </tr>\n",
       "    <tr>\n",
       "      <th>2</th>\n",
       "      <td>Maui County, HI</td>\n",
       "      <td>0.740757</td>\n",
       "      <td>0.8</td>\n",
       "      <td>0.6</td>\n",
       "      <td>28.8</td>\n",
       "      <td>10.6</td>\n",
       "      <td>23.3</td>\n",
       "      <td>10.7</td>\n",
       "      <td>31.5</td>\n",
       "    </tr>\n",
       "    <tr>\n",
       "      <th>3</th>\n",
       "      <td>Alameda County, CA</td>\n",
       "      <td>0.740399</td>\n",
       "      <td>12.4</td>\n",
       "      <td>1.2</td>\n",
       "      <td>28.2</td>\n",
       "      <td>1.0</td>\n",
       "      <td>5.2</td>\n",
       "      <td>22.7</td>\n",
       "      <td>33.2</td>\n",
       "    </tr>\n",
       "    <tr>\n",
       "      <th>4</th>\n",
       "      <td>Aleutians East Borough, AK</td>\n",
       "      <td>0.738867</td>\n",
       "      <td>7.7</td>\n",
       "      <td>21.8</td>\n",
       "      <td>41.4</td>\n",
       "      <td>0.7</td>\n",
       "      <td>3.7</td>\n",
       "      <td>13.5</td>\n",
       "      <td>12.9</td>\n",
       "    </tr>\n",
       "  </tbody>\n",
       "</table>\n",
       "</div>"
      ],
      "text/plain": [
       "                         Location  Diversity-Index  \\\n",
       "0  Aleutians West Census Area, AK         0.769346   \n",
       "1               Queens County, NY         0.742224   \n",
       "2                 Maui County, HI         0.740757   \n",
       "3              Alameda County, CA         0.740399   \n",
       "4      Aleutians East Borough, AK         0.738867   \n",
       "\n",
       "   Black or African American alone, percent, 2013  \\\n",
       "0                                             7.4   \n",
       "1                                            20.9   \n",
       "2                                             0.8   \n",
       "3                                            12.4   \n",
       "4                                             7.7   \n",
       "\n",
       "   American Indian and Alaska Native alone, percent, 2013  \\\n",
       "0                                               13.8        \n",
       "1                                                1.3        \n",
       "2                                                0.6        \n",
       "3                                                1.2        \n",
       "4                                               21.8        \n",
       "\n",
       "   Asian alone, percent, 2013  \\\n",
       "0                        31.1   \n",
       "1                        25.2   \n",
       "2                        28.8   \n",
       "3                        28.2   \n",
       "4                        41.4   \n",
       "\n",
       "   Native Hawaiian and Other Pacific Islander alone, percent,  \\\n",
       "0                                                2.3            \n",
       "1                                                0.2            \n",
       "2                                               10.6            \n",
       "3                                                1.0            \n",
       "4                                                0.7            \n",
       "\n",
       "   Two or More Races, percent, 2013  Hispanic or Latino, percent, 2013  \\\n",
       "0                               4.8                               14.6   \n",
       "1                               2.7                               28.0   \n",
       "2                              23.3                               10.7   \n",
       "3                               5.2                               22.7   \n",
       "4                               3.7                               13.5   \n",
       "\n",
       "   White alone, not Hispanic or Latino, percent, 2013  \n",
       "0                                               29.2   \n",
       "1                                               26.7   \n",
       "2                                               31.5   \n",
       "3                                               33.2   \n",
       "4                                               12.9   "
      ]
     },
     "execution_count": 8,
     "metadata": {},
     "output_type": "execute_result"
    }
   ],
   "source": [
    "di.head()"
   ]
  },
  {
   "cell_type": "code",
   "execution_count": 9,
   "metadata": {
    "collapsed": false
   },
   "outputs": [
    {
     "data": {
      "text/plain": [
       "(3195, 9)"
      ]
     },
     "execution_count": 9,
     "metadata": {},
     "output_type": "execute_result"
    }
   ],
   "source": [
    "di.shape"
   ]
  },
  {
   "cell_type": "markdown",
   "metadata": {},
   "source": [
    "### Problem 2"
   ]
  },
  {
   "cell_type": "code",
   "execution_count": 12,
   "metadata": {
    "collapsed": false
   },
   "outputs": [
    {
     "data": {
      "text/plain": [
       "Location                                                      Jefferson County, TX\n",
       "Diversity-Index                                                           0.661628\n",
       "Black or African American alone, percent, 2013                                34.4\n",
       "American Indian and Alaska Native alone, percent, 2013                           1\n",
       "Asian alone, percent, 2013                                                     3.8\n",
       "Native Hawaiian and Other Pacific Islander alone, percent,                     0.1\n",
       "Two or More Races, percent, 2013                                               1.5\n",
       "Hispanic or Latino, percent, 2013                                             18.5\n",
       "White alone, not Hispanic or Latino, percent, 2013                            42.9\n",
       "Name: 42, dtype: object"
      ]
     },
     "execution_count": 12,
     "metadata": {},
     "output_type": "execute_result"
    }
   ],
   "source": [
    "#Print the 42nd row\n",
    "\n",
    "di.iloc[42]"
   ]
  },
  {
   "cell_type": "code",
   "execution_count": 13,
   "metadata": {
    "collapsed": false
   },
   "outputs": [
    {
     "data": {
      "text/plain": [
       "pandas.core.frame.DataFrame"
      ]
     },
     "execution_count": 13,
     "metadata": {},
     "output_type": "execute_result"
    }
   ],
   "source": [
    "type(di) #Still a DataFrame!"
   ]
  },
  {
   "cell_type": "markdown",
   "metadata": {},
   "source": [
    "### Problem 3"
   ]
  },
  {
   "cell_type": "code",
   "execution_count": 15,
   "metadata": {
    "collapsed": false
   },
   "outputs": [
    {
     "data": {
      "text/html": [
       "<div>\n",
       "<table border=\"1\" class=\"dataframe\">\n",
       "  <thead>\n",
       "    <tr style=\"text-align: right;\">\n",
       "      <th></th>\n",
       "      <th>Location</th>\n",
       "      <th>Diversity-Index</th>\n",
       "      <th>Black or African American alone, percent, 2013</th>\n",
       "      <th>American Indian and Alaska Native alone, percent, 2013</th>\n",
       "      <th>Asian alone, percent, 2013</th>\n",
       "      <th>Native Hawaiian and Other Pacific Islander alone, percent,</th>\n",
       "      <th>Two or More Races, percent, 2013</th>\n",
       "      <th>Hispanic or Latino, percent, 2013</th>\n",
       "      <th>White alone, not Hispanic or Latino, percent, 2013</th>\n",
       "    </tr>\n",
       "  </thead>\n",
       "  <tbody>\n",
       "    <tr>\n",
       "      <th>3</th>\n",
       "      <td>Alameda County, CA</td>\n",
       "      <td>0.740399</td>\n",
       "      <td>12.4</td>\n",
       "      <td>1.2</td>\n",
       "      <td>28.2</td>\n",
       "      <td>1.0</td>\n",
       "      <td>5.2</td>\n",
       "      <td>22.7</td>\n",
       "      <td>33.2</td>\n",
       "    </tr>\n",
       "  </tbody>\n",
       "</table>\n",
       "</div>"
      ],
      "text/plain": [
       "             Location  Diversity-Index  \\\n",
       "3  Alameda County, CA         0.740399   \n",
       "\n",
       "   Black or African American alone, percent, 2013  \\\n",
       "3                                            12.4   \n",
       "\n",
       "   American Indian and Alaska Native alone, percent, 2013  \\\n",
       "3                                                1.2        \n",
       "\n",
       "   Asian alone, percent, 2013  \\\n",
       "3                        28.2   \n",
       "\n",
       "   Native Hawaiian and Other Pacific Islander alone, percent,  \\\n",
       "3                                                1.0            \n",
       "\n",
       "   Two or More Races, percent, 2013  Hispanic or Latino, percent, 2013  \\\n",
       "3                               5.2                               22.7   \n",
       "\n",
       "   White alone, not Hispanic or Latino, percent, 2013  \n",
       "3                                               33.2   "
      ]
     },
     "execution_count": 15,
     "metadata": {},
     "output_type": "execute_result"
    }
   ],
   "source": [
    "#Find the row that contains our county, Alameda County, CA by grabbing the Location column and comparing all its\n",
    "#elements to the string \"Alameda County, CA\" (hint: it's di[___ == \"Alameda County, CA])\n",
    "\n",
    "di[di[\"Location\"]==\"Alameda County, CA\"]"
   ]
  },
  {
   "cell_type": "markdown",
   "metadata": {},
   "source": [
    "As you can see, we can select rows based on a boolean vector! Try running only the line in the middle (di[_____]) to see what I mean by \"boolean vector\""
   ]
  },
  {
   "cell_type": "markdown",
   "metadata": {},
   "source": [
    "### Problem 4"
   ]
  },
  {
   "cell_type": "code",
   "execution_count": 16,
   "metadata": {
    "collapsed": true
   },
   "outputs": [],
   "source": [
    "#Print the rows with the maximum and minimum diversity index and comment on how you think the distribution of \n",
    "#races contributes to the max and min scores you found. hint(when you select the column, you can attach a .min()\n",
    "#right after the line to find the min of that column)"
   ]
  },
  {
   "cell_type": "code",
   "execution_count": 20,
   "metadata": {
    "collapsed": false
   },
   "outputs": [
    {
     "data": {
      "text/html": [
       "<div>\n",
       "<table border=\"1\" class=\"dataframe\">\n",
       "  <thead>\n",
       "    <tr style=\"text-align: right;\">\n",
       "      <th></th>\n",
       "      <th>Location</th>\n",
       "      <th>Diversity-Index</th>\n",
       "      <th>Black or African American alone, percent, 2013</th>\n",
       "      <th>American Indian and Alaska Native alone, percent, 2013</th>\n",
       "      <th>Asian alone, percent, 2013</th>\n",
       "      <th>Native Hawaiian and Other Pacific Islander alone, percent,</th>\n",
       "      <th>Two or More Races, percent, 2013</th>\n",
       "      <th>Hispanic or Latino, percent, 2013</th>\n",
       "      <th>White alone, not Hispanic or Latino, percent, 2013</th>\n",
       "    </tr>\n",
       "  </thead>\n",
       "  <tbody>\n",
       "    <tr>\n",
       "      <th>0</th>\n",
       "      <td>Aleutians West Census Area, AK</td>\n",
       "      <td>0.769346</td>\n",
       "      <td>7.4</td>\n",
       "      <td>13.8</td>\n",
       "      <td>31.1</td>\n",
       "      <td>2.3</td>\n",
       "      <td>4.8</td>\n",
       "      <td>14.6</td>\n",
       "      <td>29.2</td>\n",
       "    </tr>\n",
       "    <tr>\n",
       "      <th>3194</th>\n",
       "      <td>Keya Paha County, NE</td>\n",
       "      <td>0.021816</td>\n",
       "      <td>0.0</td>\n",
       "      <td>0.1</td>\n",
       "      <td>0.1</td>\n",
       "      <td>0.0</td>\n",
       "      <td>0.6</td>\n",
       "      <td>0.5</td>\n",
       "      <td>98.9</td>\n",
       "    </tr>\n",
       "  </tbody>\n",
       "</table>\n",
       "</div>"
      ],
      "text/plain": [
       "                            Location  Diversity-Index  \\\n",
       "0     Aleutians West Census Area, AK         0.769346   \n",
       "3194            Keya Paha County, NE         0.021816   \n",
       "\n",
       "      Black or African American alone, percent, 2013  \\\n",
       "0                                                7.4   \n",
       "3194                                             0.0   \n",
       "\n",
       "      American Indian and Alaska Native alone, percent, 2013  \\\n",
       "0                                                  13.8        \n",
       "3194                                                0.1        \n",
       "\n",
       "      Asian alone, percent, 2013  \\\n",
       "0                           31.1   \n",
       "3194                         0.1   \n",
       "\n",
       "      Native Hawaiian and Other Pacific Islander alone, percent,  \\\n",
       "0                                                   2.3            \n",
       "3194                                                0.0            \n",
       "\n",
       "      Two or More Races, percent, 2013  Hispanic or Latino, percent, 2013  \\\n",
       "0                                  4.8                               14.6   \n",
       "3194                               0.6                                0.5   \n",
       "\n",
       "      White alone, not Hispanic or Latino, percent, 2013  \n",
       "0                                                  29.2   \n",
       "3194                                               98.9   "
      ]
     },
     "execution_count": 20,
     "metadata": {},
     "output_type": "execute_result"
    }
   ],
   "source": [
    "max_di = di[\"Diversity-Index\"].max()\n",
    "min_di = di[\"Diversity-Index\"].min()\n",
    "\n",
    "mm_di = di[(di[\"Diversity-Index\"]==max_di) | (di[\"Diversity-Index\"]==min_di)]\n",
    "mm_di"
   ]
  },
  {
   "cell_type": "markdown",
   "metadata": {},
   "source": [
    "### Problem 5"
   ]
  },
  {
   "cell_type": "code",
   "execution_count": 25,
   "metadata": {
    "collapsed": false
   },
   "outputs": [
    {
     "data": {
      "text/plain": [
       "<matplotlib.axes._subplots.AxesSubplot at 0x11b32f278>"
      ]
     },
     "execution_count": 25,
     "metadata": {},
     "output_type": "execute_result"
    },
    {
     "data": {
      "image/png": "[encoded data removed]",
      "text/plain": [
       "<matplotlib.figure.Figure at 0x11b444668>"
      ]
     },
     "metadata": {},
     "output_type": "display_data"
    }
   ],
   "source": [
    "#Make a barplot of percentages of each race for both counties you identified above (this should be a single line!)\n",
    "#Also, you might want to set the legend to not appear\n",
    "mm_di.iloc[:,2:].plot(kind='bar',legend=False)"
   ]
  },
  {
   "cell_type": "code",
   "execution_count": null,
   "metadata": {
    "collapsed": true
   },
   "outputs": [],
   "source": []
  }
 ],
 "metadata": {
  "kernelspec": {
   "display_name": "Python 3",
   "language": "python",
   "name": "python3"
  },
  "language_info": {
   "codemirror_mode": {
    "name": "ipython",
    "version": 3
   },
   "file_extension": ".py",
   "mimetype": "text/x-python",
   "name": "python",
   "nbconvert_exporter": "python",
   "pygments_lexer": "ipython3",
   "version": "3.5.2"
  }
 },
 "nbformat": 4,
 "nbformat_minor": 0
}
