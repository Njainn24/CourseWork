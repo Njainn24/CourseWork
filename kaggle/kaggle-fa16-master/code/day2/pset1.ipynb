{
 "cells": [
  {
   "cell_type": "code",
   "execution_count": null,
   "metadata": {
    "collapsed": false
   },
   "outputs": [],
   "source": [
    "#### RUN ME PLEASE ####\n",
    "\"\"\"Use 'Shift + Enter' when focused on this cell.\"\"\"\n",
    "import numpy as np"
   ]
  },
  {
   "cell_type": "markdown",
   "metadata": {},
   "source": [
    "# Python for DS Practice\n",
    "##### Data Science for Kaggle Decal Fall 2016 | Phillip Kuznetsov, Jerry Chen, Joseph Simonian\n",
    "\n",
    "\n",
    "Welcome to the first pset. This should be a really simple intro to Python. We are structuring it to get you familiar with the tools we will be using for this class. Make sure that you run the first cell before any others otherwise you'll get errors for not including the numpy package.\n",
    "\n",
    "If you have trouble with any question, first consult any old notebooks. Especially from class today ;). \n",
    "Then, ask [Piazza](https://piazza.com/class/isqcaac02iy5v2?cid=7)! We'll try to get back to you asap through there. "
   ]
  },
  {
   "cell_type": "markdown",
   "metadata": {},
   "source": [
    "# Problem 1\n",
    "Get the element at index 3 of the numpy array and store it in the variable `elm3`."
   ]
  },
  {
   "cell_type": "code",
   "execution_count": null,
   "metadata": {
    "collapsed": false
   },
   "outputs": [],
   "source": [
    "fun_array = np.random.randint(10, size=10)\n",
    "print(fun_array)\n",
    "### YOUR CODE BELOW ###\n",
    "### END YOUR CODE ###\n",
    "print(elm3)"
   ]
  },
  {
   "cell_type": "markdown",
   "metadata": {},
   "source": [
    "# Problem 2 \n",
    "Take the square root of each element in fun_array"
   ]
  },
  {
   "cell_type": "code",
   "execution_count": null,
   "metadata": {
    "collapsed": false
   },
   "outputs": [],
   "source": [
    "### YOUR CODE BELOW ###\n",
    "### END YOUR CODE ###\n"
   ]
  },
  {
   "cell_type": "markdown",
   "metadata": {},
   "source": [
    "# Problem 3\n",
    "Multiply matrix $X$ and multiply with $\\vec{y}$"
   ]
  },
  {
   "cell_type": "code",
   "execution_count": null,
   "metadata": {
    "collapsed": false
   },
   "outputs": [],
   "source": [
    "X = np.array([[1,2,3],[4,5,6],[7,8,9]])\n",
    "y = np.array([1,2,3])\n",
    "### YOUR CODE BELOW ###\n",
    "### END YOUR CODE ###\n"
   ]
  },
  {
   "cell_type": "markdown",
   "metadata": {},
   "source": [
    "# Problem 4\n",
    "Fill in the missing code so that you can plot \n",
    "\n",
    "This is a very simple 2 line problem. You should read [the `matplotlib` documentation](http://matplotlib.org/users/pyplot_tutorial.html) if you are unfamiliar with mathplotlib. \n",
    "\n",
    "If you're eager, you can jump ahead and check out what bias and variance curves really are."
   ]
  },
  {
   "cell_type": "code",
   "execution_count": null,
   "metadata": {
    "collapsed": false
   },
   "outputs": [],
   "source": [
    "import matplotlib.pyplot as plt\n",
    "X = np.linspace(0, 5, 500) #np.arange(500)\n",
    "\n",
    "# These are just to represent actual training and testing \n",
    "training_accuracy = np.exp(-(X)) * np.exp(1.5) + 0.5\n",
    "testing_accuracy = (X - 2.4)**2 + 1\n",
    "\n",
    "### YOUR CODE BELOW ###\n",
    "### END YOUR CODE ###\n",
    "\n",
    "plt.title(\"Bias Variance\")\n",
    "plt.xlabel(\"Parameter Value \")\n",
    "plt.ylabel(\"Error\")\n",
    "plt.legend(labels=['Training Error','Testing Error'])\n",
    "axes = plt.gca()\n",
    "axes.set_ylim([0,5])"
   ]
  },
  {
   "cell_type": "markdown",
   "metadata": {},
   "source": [
    "# Problem 5\n",
    "\n",
    "The fibonacci sequence is defined as $F_n = F_{n-1} + F_{n-2}$, where $F_1 = 1,\\; F_2 = 1$ \n",
    "\n",
    "**Finish the function to output the next fibonacci**"
   ]
  },
  {
   "cell_type": "code",
   "execution_count": null,
   "metadata": {
    "collapsed": false
   },
   "outputs": [],
   "source": [
    "\n",
    "def nextFib(x, y):\n",
    "    ### YOUR CODE BELOW ###\n",
    "    ### END YOUR CODE ###\n",
    "\n",
    "fib = np.array([1,1] + [0]*10)\n",
    "for i in range(2,len(fib)):\n",
    "    fib[i] = nextFib(fib[i-1], fib[i-2])\n",
    "print(fib)\n"
   ]
  },
  {
   "cell_type": "markdown",
   "metadata": {},
   "source": [
    "# HOMEWORK SUBMISSION\n",
    "We will be submitting work through gradescope. You must make your submission in pdf format so that we can easily process them using gradescope question matching.\n",
    "## Saving the file as a pdf\n",
    "\n",
    "In the menu bar, you simply follow\n",
    "\n",
    "`File > Download as > PDF`\n",
    "and a pdf will be downloaded through the browser.\n",
    "\n",
    "## Submitting\n",
    "Go to [gradescope.com](https://gradescope.com/), and click on the box  that says `Stat 198`. \n",
    "\n",
    "Navigate to the assignment linked to this homework, then on the submission page, select upload and upload the pdf you just downloaded. You will be required to label your questions appropriately.\n",
    "\n",
    "\n",
    "## FAQ\n",
    "### Gradescope doesn't show this class and I haven't received any gradescope email?!\n",
    "If you have not, please contact Joseph Simonian. His email is in [Piazza](https://piazza.com/class/isqcaac02iy5v2?cid=7).\n"
   ]
  },
  {
   "cell_type": "code",
   "execution_count": null,
   "metadata": {
    "collapsed": true
   },
   "outputs": [],
   "source": []
  }
 ],
 "metadata": {
  "kernelspec": {
   "display_name": "Python 3",
   "language": "python",
   "name": "python3"
  },
  "language_info": {
   "codemirror_mode": {
    "name": "ipython",
    "version": 3
   },
   "file_extension": ".py",
   "mimetype": "text/x-python",
   "name": "python",
   "nbconvert_exporter": "python",
   "pygments_lexer": "ipython3",
   "version": "3.5.2"
  }
 },
 "nbformat": 4,
 "nbformat_minor": 0
}
