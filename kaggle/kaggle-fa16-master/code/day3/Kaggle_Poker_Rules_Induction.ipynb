{
 "cells": [
  {
   "cell_type": "markdown",
   "metadata": {},
   "source": [
    "## Kaggle Poker Rules Induction\n",
    "Let's start off with a few standard imports"
   ]
  },
  {
   "cell_type": "code",
   "execution_count": 4,
   "metadata": {
    "collapsed": true
   },
   "outputs": [],
   "source": [
    "import numpy as np\n",
    "import pandas as pd\n",
    "\n",
    "np.random.seed(198)"
   ]
  },
  {
   "cell_type": "markdown",
   "metadata": {},
   "source": [
    "Now we can read our data into pandas dataframes"
   ]
  },
  {
   "cell_type": "code",
   "execution_count": 5,
   "metadata": {
    "collapsed": true
   },
   "outputs": [],
   "source": [
    "train_df = pd.read_csv('train.csv')\n",
    "test_df = pd.read_csv('test.csv')"
   ]
  },
  {
   "cell_type": "markdown",
   "metadata": {},
   "source": [
    "Visualizing data"
   ]
  },
  {
   "cell_type": "code",
   "execution_count": 6,
   "metadata": {
    "collapsed": false
   },
   "outputs": [],
   "source": [
    "#train_df"
   ]
  },
  {
   "cell_type": "markdown",
   "metadata": {},
   "source": [
    "Splitting into training and validation sets"
   ]
  },
  {
   "cell_type": "code",
   "execution_count": 7,
   "metadata": {
    "collapsed": false
   },
   "outputs": [],
   "source": [
    "train, valid = train_df[5000:], train_df[:5000]\n",
    "train_values = train.drop('hand', axis=1)\n",
    "train_labels = train['hand']\n",
    "valid_values = valid.drop('hand', axis=1)\n",
    "valid_labels = valid['hand']"
   ]
  },
  {
   "cell_type": "markdown",
   "metadata": {},
   "source": [
    "Decision-tree predictions using raw data"
   ]
  },
  {
   "cell_type": "code",
   "execution_count": 8,
   "metadata": {
    "collapsed": false
   },
   "outputs": [
    {
     "name": "stdout",
     "output_type": "stream",
     "text": [
      "0.4658\n"
     ]
    }
   ],
   "source": [
    "import sklearn.tree\n",
    "clf = sklearn.tree.DecisionTreeClassifier()\n",
    "clf.fit(train_values, train_labels)\n",
    "pred = clf.predict(valid_values)\n",
    "print(np.average(valid_labels == pred))"
   ]
  },
  {
   "cell_type": "markdown",
   "metadata": {},
   "source": [
    "Assuming that order doesn't matter - give each card a unique value"
   ]
  },
  {
   "cell_type": "code",
   "execution_count": 9,
   "metadata": {
    "collapsed": false
   },
   "outputs": [],
   "source": [
    "train_df['Card1'] = (train_df['S1']-1) * 13 + (train_df['C1']) - 1\n",
    "train_df['Card2'] = (train_df['S2']-1) * 13 + (train_df['C2']) - 1\n",
    "train_df['Card3'] = (train_df['S3']-1) * 13 + (train_df['C3']) - 1\n",
    "train_df['Card4'] = (train_df['S4']-1) * 13 + (train_df['C4']) - 1\n",
    "train_df['Card5'] = (train_df['S5']-1) * 13 + (train_df['C5']) - 1\n",
    "card_list = ['Card1','Card2','Card3','Card4','Card5']\n",
    "card_df = train_df[card_list]"
   ]
  },
  {
   "cell_type": "code",
   "execution_count": 10,
   "metadata": {
    "collapsed": false
   },
   "outputs": [],
   "source": [
    "#card_df"
   ]
  },
  {
   "cell_type": "markdown",
   "metadata": {},
   "source": [
    "Combine the Groups"
   ]
  },
  {
   "cell_type": "code",
   "execution_count": 11,
   "metadata": {
    "collapsed": false
   },
   "outputs": [],
   "source": [
    "card_df = pd.get_dummies(card_df, prefix='Card', columns=card_list)\n",
    "card_df = card_df.groupby(card_df.columns, axis=1).sum()"
   ]
  },
  {
   "cell_type": "code",
   "execution_count": 12,
   "metadata": {
    "collapsed": false
   },
   "outputs": [],
   "source": [
    "#card_df"
   ]
  },
  {
   "cell_type": "code",
   "execution_count": 13,
   "metadata": {
    "collapsed": true
   },
   "outputs": [],
   "source": [
    "train_values, valid_values = card_df[5000:], card_df[:5000]"
   ]
  },
  {
   "cell_type": "markdown",
   "metadata": {},
   "source": [
    "Training a decision tree on new data"
   ]
  },
  {
   "cell_type": "code",
   "execution_count": 14,
   "metadata": {
    "collapsed": false
   },
   "outputs": [
    {
     "name": "stdout",
     "output_type": "stream",
     "text": [
      "0.6426\n"
     ]
    }
   ],
   "source": [
    "import sklearn.ensemble\n",
    "clf = sklearn.tree.DecisionTreeClassifier()\n",
    "clf.fit(train_values, train_labels)\n",
    "pred = clf.predict(valid_values)\n",
    "print(np.average(valid_labels == pred))"
   ]
  },
  {
   "cell_type": "markdown",
   "metadata": {},
   "source": [
    "Better, but what about an ensemble method?"
   ]
  },
  {
   "cell_type": "code",
   "execution_count": 15,
   "metadata": {
    "collapsed": false
   },
   "outputs": [
    {
     "name": "stdout",
     "output_type": "stream",
     "text": [
      "0.7358\n"
     ]
    }
   ],
   "source": [
    "clf = sklearn.ensemble.RandomForestClassifier(n_estimators=10)\n",
    "clf.fit(train_values, train_labels)\n",
    "pred = clf.predict(valid_values)\n",
    "print(np.average(valid_labels == pred))"
   ]
  },
  {
   "cell_type": "markdown",
   "metadata": {},
   "source": [
    "What's the optimal number of trees?"
   ]
  },
  {
   "cell_type": "code",
   "execution_count": 26,
   "metadata": {
    "collapsed": false
   },
   "outputs": [
    {
     "name": "stdout",
     "output_type": "stream",
     "text": [
      "number of trees: 1, time to train: 0.347851, accuracy: 0.582200\n",
      "number of trees: 2, time to train: 0.073792, accuracy: 0.627000\n",
      "number of trees: 4, time to train: 0.170200, accuracy: 0.668600\n",
      "number of trees: 8, time to train: 0.304869, accuracy: 0.724600\n",
      "number of trees: 16, time to train: 0.606178, accuracy: 0.772200\n",
      "number of trees: 32, time to train: 1.370654, accuracy: 0.813600\n",
      "number of trees: 64, time to train: 2.331849, accuracy: 0.847200\n",
      "number of trees: 128, time to train: 4.696705, accuracy: 0.859800\n",
      "number of trees: 256, time to train: 10.093815, accuracy: 0.871400\n",
      "number of trees: 512, time to train: 20.733129, accuracy: 0.873200\n"
     ]
    },
    {
     "data": {
      "image/png": "[encoded data removed]",
      "text/plain": [
       "<matplotlib.figure.Figure at 0x108f86f98>"
      ]
     },
     "metadata": {},
     "output_type": "display_data"
    }
   ],
   "source": [
    "import time\n",
    "import matplotlib.pyplot as plt\n",
    "%matplotlib inline\n",
    "\n",
    "errors = []\n",
    "for n_estimators in 2**np.arange(10):\n",
    "    tic = time.time()\n",
    "    clf = sklearn.ensemble.RandomForestClassifier(n_estimators=n_estimators)\n",
    "    clf.fit(train_values, train_labels)\n",
    "    toc = time.time()\n",
    "    pred = clf.predict(valid_values)\n",
    "    error = 1 - np.average(valid_labels == pred)\n",
    "    data = (n_estimators, toc-tic, 1-error)\n",
    "    print(\"number of trees: %d, time to train: %f, accuracy: %f\" % data)\n",
    "    errors.append(error)\n",
    "    \n",
    "plt.plot(2**np.arange(10), errors)\n",
    "plt.title('Error Rate for Random Forest')\n",
    "plt.xlabel('Number of Estimators')\n",
    "plt.ylabel('Error Rate')\n",
    "plt.show()"
   ]
  },
  {
   "cell_type": "code",
   "execution_count": 47,
   "metadata": {
    "collapsed": true
   },
   "outputs": [],
   "source": [
    "n_estimators = 200"
   ]
  },
  {
   "cell_type": "code",
   "execution_count": 51,
   "metadata": {
    "collapsed": false
   },
   "outputs": [
    {
     "name": "stdout",
     "output_type": "stream",
     "text": [
      "0.87\n"
     ]
    }
   ],
   "source": [
    "clf = sklearn.ensemble.RandomForestClassifier(n_estimators=n_estimators)\n",
    "clf.fit(train_values, train_labels)\n",
    "pred = clf.predict(valid_values)\n",
    "print(np.average(valid_labels == pred))"
   ]
  },
  {
   "cell_type": "markdown",
   "metadata": {},
   "source": [
    "What kind of errors are we making?"
   ]
  },
  {
   "cell_type": "code",
   "execution_count": 27,
   "metadata": {
    "collapsed": false
   },
   "outputs": [
    {
     "name": "stderr",
     "output_type": "stream",
     "text": [
      "/Library/Frameworks/Python.framework/Versions/3.4/lib/python3.4/site-packages/matplotlib/collections.py:590: FutureWarning: elementwise comparison failed; returning scalar instead, but in the future will perform elementwise comparison\n",
      "  if self._edgecolors == str('face'):\n"
     ]
    },
    {
     "data": {
      "image/png": "[encoded data removed]",
      "text/plain": [
       "<matplotlib.figure.Figure at 0x1066665c0>"
      ]
     },
     "metadata": {},
     "output_type": "display_data"
    }
   ],
   "source": [
    "import sklearn.metrics\n",
    "cm = sklearn.metrics.confusion_matrix(valid_labels, pred)\n",
    "\n",
    "cmap=plt.cm.Blues\n",
    "plt.figure()\n",
    "plt.imshow(cm, interpolation='nearest', cmap=cmap)\n",
    "plt.title('Confusion matrix')\n",
    "plt.colorbar()\n",
    "tick_marks = np.arange(10)\n",
    "plt.xticks(tick_marks)\n",
    "plt.yticks(tick_marks)\n",
    "plt.tight_layout()\n",
    "plt.ylabel('True label')\n",
    "plt.xlabel('Predicted label')\n",
    "plt.show()"
   ]
  },
  {
   "cell_type": "code",
   "execution_count": 93,
   "metadata": {
    "collapsed": false
   },
   "outputs": [
    {
     "name": "stdout",
     "output_type": "stream",
     "text": [
      "validation label frequency: {0: 2512, 1: 2093, 2: 239, 3: 120, 4: 20, 5: 9, 6: 7}\n",
      "predicted label frequency: {0: 2666, 1: 2271, 2: 35, 3: 23, 5: 2, 7: 1, 8: 2}\n"
     ]
    }
   ],
   "source": [
    "def label_freqs(labels):\n",
    "    freqs = {}\n",
    "    for label in labels:\n",
    "        if label in freqs:\n",
    "            freqs[label] += 1\n",
    "        else:\n",
    "            freqs[label] = 1\n",
    "    return freqs\n",
    "print(\"validation label frequency: {}\".format(label_freqs(valid_labels)))\n",
    "print(\"predicted label frequency: {}\".format(label_freqs(pred)))"
   ]
  },
  {
   "cell_type": "markdown",
   "metadata": {},
   "source": [
    "Our classifier never predicts more than 3! \n",
    "\n",
    "What's more, our validation set includes no labels of 8 or 9."
   ]
  },
  {
   "cell_type": "code",
   "execution_count": 109,
   "metadata": {
    "collapsed": false
   },
   "outputs": [
    {
     "name": "stdout",
     "output_type": "stream",
     "text": [
      "0.9004\n",
      "predicted label frequency: {0: 2684, 1: 2233, 2: 10, 3: 73}\n"
     ]
    }
   ],
   "source": [
    "clf = sklearn.ensemble.RandomForestClassifier(n_estimators=n_estimators, \n",
    "                                              max_features=0.5, \n",
    "                                              class_weight=\"balanced_subsample\")\n",
    "clf.fit(train_values, train_labels)\n",
    "pred = clf.predict(valid_values)\n",
    "print(np.average(valid_labels == pred))\n",
    "print(\"predicted label frequency: {}\".format(label_freqs(pred)))"
   ]
  },
  {
   "cell_type": "code",
   "execution_count": 107,
   "metadata": {
    "collapsed": true
   },
   "outputs": [],
   "source": [
    "test_df['Card1'] = (test_df['S1']-1) * 13 + (test_df['C1']) - 1\n",
    "test_df['Card2'] = (test_df['S2']-1) * 13 + (test_df['C2']) - 1\n",
    "test_df['Card3'] = (test_df['S3']-1) * 13 + (test_df['C3']) - 1\n",
    "test_df['Card4'] = (test_df['S4']-1) * 13 + (test_df['C4']) - 1\n",
    "test_df['Card5'] = (test_df['S5']-1) * 13 + (test_df['C5']) - 1\n",
    "card_list = ['Card1','Card2','Card3','Card4','Card5']\n",
    "test_card_df = test_df[card_list]\n",
    "test_card_df = pd.get_dummies(test_card_df, prefix='Card', columns=card_list)\n",
    "test_card_df = test_card_df.groupby(test_card_df.columns, axis=1).sum()"
   ]
  },
  {
   "cell_type": "code",
   "execution_count": 111,
   "metadata": {
    "collapsed": false
   },
   "outputs": [
    {
     "name": "stdout",
     "output_type": "stream",
     "text": [
      "predicting\n",
      "{0: 527596, 1: 457030, 2: 2231, 3: 13004, 4: 56, 5: 44, 6: 33, 7: 3, 9: 3}\n"
     ]
    }
   ],
   "source": [
    "clf = sklearn.ensemble.RandomForestClassifier(n_estimators=n_estimators, \n",
    "                                              max_features=0.5, \n",
    "                                              class_weight=\"balanced_subsample\")\n",
    "clf.fit(card_df, train_df['hand'])\n",
    "print('predicting')\n",
    "pred = clf.predict(test_card_df)\n",
    "print(label_freqs(pred))"
   ]
  },
  {
   "cell_type": "code",
   "execution_count": null,
   "metadata": {
    "collapsed": true
   },
   "outputs": [],
   "source": []
  }
 ],
 "metadata": {
  "kernelspec": {
   "display_name": "Python 2",
   "language": "python",
   "name": "python2"
  },
  "language_info": {
   "codemirror_mode": {
    "name": "ipython",
    "version": 2
   },
   "file_extension": ".py",
   "mimetype": "text/x-python",
   "name": "python",
   "nbconvert_exporter": "python",
   "pygments_lexer": "ipython2",
   "version": "2.7.9"
  }
 },
 "nbformat": 4,
 "nbformat_minor": 0
}
