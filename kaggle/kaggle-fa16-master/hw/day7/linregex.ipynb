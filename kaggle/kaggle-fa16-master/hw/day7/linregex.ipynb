{
 "cells": [
  {
   "cell_type": "code",
   "execution_count": null,
   "metadata": {
    "collapsed": false
   },
   "outputs": [],
   "source": [
    "%matplotlib inline\n",
    "import numpy as np\n",
    "import pandas as pd\n",
    "import matplotlib.pyplot as plt\n",
    "\n",
    "from sklearn.linear_model import LinearRegression\n",
    "from sklearn.cross_validation import train_test_split"
   ]
  },
  {
   "cell_type": "markdown",
   "metadata": {},
   "source": [
    "# Linear Regression and Regex Assignment\n",
    "## Due Date: 09/29 at 11:59 pm\n",
    "\n",
    "Welcome to your latest assignment. This will be primarily focused on the [auto mpg dataset](https://archive.ics.uci.edu/ml/datasets/Auto_mpg) from the UCI machine learning repository. We will be attempting to regress on the different column values with mpg as a goal.\n",
    "## Loading the data\n",
    "The data is stored in `../data/autompg.csv`. Load it using the pandas `read_csv` method."
   ]
  },
  {
   "cell_type": "code",
   "execution_count": null,
   "metadata": {
    "collapsed": false
   },
   "outputs": [],
   "source": [
    "autompg = pd.read_csv(\"../../datasets/autompg/autompg.csv\")"
   ]
  },
  {
   "cell_type": "code",
   "execution_count": null,
   "metadata": {
    "collapsed": false
   },
   "outputs": [],
   "source": [
    "autompg.head(5)"
   ]
  },
  {
   "cell_type": "markdown",
   "metadata": {},
   "source": [
    "## Data Processing \n",
    "For the moment, it probably isn't clear what kind of data processing you'll have to do. \n",
    "\n",
    "\n",
    "Run through the rest of the cells to figure out exactly what kind of processing you need to do with the data to actually use Linear Regression.\n",
    "\n",
    "Once you can run Linear Regression, play around with the data to try amd increase your accuracy"
   ]
  },
  {
   "cell_type": "code",
   "execution_count": null,
   "metadata": {
    "collapsed": false
   },
   "outputs": [],
   "source": [
    "## TODO ADD YOUR DATA PROCESSING HERE! \n",
    "## make sure you only modify autompg_df instead\n",
    "autompg_df = autompg ## This shouldn't be your only statement"
   ]
  },
  {
   "cell_type": "markdown",
   "metadata": {},
   "source": [
    "## Train - Test split \n",
    "This is one of the most important parts of the data science process. This is basically just breaking up the data into the training segment and the test segment"
   ]
  },
  {
   "cell_type": "code",
   "execution_count": null,
   "metadata": {
    "collapsed": false
   },
   "outputs": [],
   "source": [
    "train, test = train_test_split(autompg_df,test_size=0.2)\n",
    "yTrain = train['mpg']\n",
    "xTrain = train.drop(['mpg'],axis=1)\n",
    "yTest = test['mpg']\n",
    "xTest = test.drop(['mpg'], axis=1)"
   ]
  },
  {
   "cell_type": "markdown",
   "metadata": {},
   "source": [
    "## Time to Regress\n",
    "Use sklearn's LinearRegression module to run regression on the data. If you have any weird problems with datatypes, this is a good sign you'll probably have to go back to the data processing part then rerun all the cells that come afterwards. \n",
    "\n",
    "Remember, linear regression needs can only take in numbers. "
   ]
  },
  {
   "cell_type": "code",
   "execution_count": null,
   "metadata": {
    "collapsed": false
   },
   "outputs": [],
   "source": [
    "clf = # Write your classifier here"
   ]
  },
  {
   "cell_type": "markdown",
   "metadata": {},
   "source": [
    "Now if you're having trouble with this error: \n",
    "\n",
    "    ValueError: could not convert string to float: '?'\n",
    "I'm gonna help you out here. The string is located in the horsepower column of the dataframe. Go ahead and remove all entries that have this value for horsepower (it's only a few datapoints so no loss for us). [This stackoverflow](http://stackoverflow.com/questions/18172851/deleting-dataframe-row-in-pandas-based-on-column-value) answer should help you figure out how to remove these rows from the dataframe. If you're unfamiliar with stackoverflow, get acquainted quickly - it's going to be one of your main resources if you decided to pursue datascience or any other programming related field in the future"
   ]
  },
  {
   "cell_type": "markdown",
   "metadata": {},
   "source": [
    "## Evaluating your regressor\n",
    "### Mean Squared Error\n",
    "We've supplied you a few ways to evaluate how well your regressor is performing. The first cell outputs the Mean Squared error - basically a measure of the difference between the predicted value calculated by Linear Regression and the actual value for the data. *Lower is better*"
   ]
  },
  {
   "cell_type": "code",
   "execution_count": null,
   "metadata": {
    "collapsed": false
   },
   "outputs": [],
   "source": [
    "prediction = clf.predict(xTest)\n",
    "#MSE of Linear Model\n",
    "np.mean((yTest - prediction)**2)"
   ]
  },
  {
   "cell_type": "markdown",
   "metadata": {},
   "source": [
    "If you're having trouble with dimensions not lining up, then append `.reshape((len(yTest),1))` to the end of yTest in the last line of the cell. \n",
    "\n",
    "\n",
    "This is a result of problems with how numpy handles shape and is discussed in [depth here](http://stackoverflow.com/questions/22053050/difference-between-numpy-array-shape-r-1-and-r). Don't worry if this is flying over your head, you don't need to know this for the class.\n",
    "\n",
    "\n"
   ]
  },
  {
   "cell_type": "markdown",
   "metadata": {},
   "source": [
    "## A twist! \n",
    "Now you might have heard about Volkswagen's [emission scandal](http://www.nytimes.com/interactive/2015/business/international/vw-diesel-emissions-scandal-explained.html) from this past year. \n",
    "\n",
    "It turns out when we ran these tests, the same sneaky VW engineers tweaked the mpg tests here to report false values as well! Knowing this, we want to separate the data on Volkswagen cars and those from more honest automobile manufacturers.\n",
    "\n",
    "However, this task isn't easy. VW cars can have either 'volkswagen' or 'vw' in their car name entry. Your task is to write a regex query that allows you to find rows corresponding to volkswagen cars ( this means matching 'volkswagen' or 'vw' -- there should be 21 of them)."
   ]
  },
  {
   "cell_type": "code",
   "execution_count": null,
   "metadata": {
    "collapsed": false
   },
   "outputs": [],
   "source": [
    "autompg_df = autompg # Reloaded here because you should've dropped a column earlier ;)\n",
    "vw_regex = ## write regex that matches all the volkswagens - make sure you spell it correctly\n",
    "vws = autompg_df[autompg_df['car name'].str.contains(vw_regex)]\n",
    "print(\"You found\",len(vws), \"VWs\")\n"
   ]
  },
  {
   "cell_type": "markdown",
   "metadata": {},
   "source": [
    "[here's a hint](http://www.regular-expressions.info/alternation.html)\n",
    "\n",
    "In case you're curious, the statement below will then remove the rows that match the regex - now we have true honest data"
   ]
  },
  {
   "cell_type": "code",
   "execution_count": null,
   "metadata": {
    "collapsed": false
   },
   "outputs": [],
   "source": [
    "autompg_df[np.logical_not(autompg_df['car name'].str.contains(vw_regex))].head(5)"
   ]
  },
  {
   "cell_type": "markdown",
   "metadata": {},
   "source": [
    "\n",
    "\n",
    "## Bonus Funtime \n",
    "1. Make another linear regressor on the new data that doesn't contain the volkswagen cars.\n",
    "2. Play around with data extraction and feature engineering. Maybe you can encode something in the car name, add/remove columns, etc."
   ]
  },
  {
   "cell_type": "code",
   "execution_count": null,
   "metadata": {
    "collapsed": true
   },
   "outputs": [],
   "source": []
  }
 ],
 "metadata": {
  "kernelspec": {
   "display_name": "Python 3",
   "language": "python",
   "name": "python3"
  },
  "language_info": {
   "codemirror_mode": {
    "name": "ipython",
    "version": 3
   },
   "file_extension": ".py",
   "mimetype": "text/x-python",
   "name": "python",
   "nbconvert_exporter": "python",
   "pygments_lexer": "ipython3",
   "version": "3.5.2"
  }
 },
 "nbformat": 4,
 "nbformat_minor": 0
}
