{
 "cells": [
  {
   "cell_type": "markdown",
   "metadata": {},
   "source": [
    "# Pokemon Go Closest Spawn Points (Due 9/12)"
   ]
  },
  {
   "cell_type": "markdown",
   "metadata": {},
   "source": [
    "The goal of this assignment is to get you wrangling with numpy and data. In general, you will be using pandas for 90% of your data analysis and modeling but for the other 10%, numpy is still used. This task is one of them and will also serve as a gentle introduction to the concept of nearest neighbors later on in the course."
   ]
  },
  {
   "cell_type": "markdown",
   "metadata": {},
   "source": [
    "Below is a file that contains latitude and longitude coordinates of spawn locations in UC Berkeley's campus. Each spawn location spawns a certain pokemon at a particular time each hour according to some distribution. Naturally, standing in a spot with multiple spawn points close to one another would increase the rate of Pokemon to catch. Your first task is to plot these points to get a general sense of how the spawnpoints are scattered."
   ]
  },
  {
   "cell_type": "code",
   "execution_count": 1,
   "metadata": {
    "collapsed": true
   },
   "outputs": [],
   "source": [
    "%matplotlib inline"
   ]
  },
  {
   "cell_type": "code",
   "execution_count": 2,
   "metadata": {
    "collapsed": true
   },
   "outputs": [],
   "source": [
    "import numpy as np\n",
    "import matplotlib.pyplot as plt"
   ]
  },
  {
   "cell_type": "code",
   "execution_count": null,
   "metadata": {
    "collapsed": true
   },
   "outputs": [],
   "source": [
    "#Reading in the data\n",
    "spawns = np.loadtxt(\"path/to/pogo_spawns_data.csv\",delimiter=\",\") #Fill in the path to your file! "
   ]
  },
  {
   "cell_type": "markdown",
   "metadata": {},
   "source": [
    "## Problem 1"
   ]
  },
  {
   "cell_type": "markdown",
   "metadata": {},
   "source": [
    "Each row in the variable **spawns** corresponds to a unique Pokemon spawn point. The first column is latitude and the second column is longitude. Make a scatter plot of these spawn locations and comment on at least one thing you find interesting. It might be useful to know that the center of the search space is located on top of Maximino Martinez  Commons. You can read more about plots [here](http://www.scipy-lectures.org/intro/matplotlib/matplotlib.html). \n",
    "\n",
    "Note: Make sure your x and y axes correspond to longitude and latitude, respectively!"
   ]
  },
  {
   "cell_type": "code",
   "execution_count": 3,
   "metadata": {
    "collapsed": true
   },
   "outputs": [],
   "source": [
    "#Problem 1 Code Here"
   ]
  },
  {
   "cell_type": "markdown",
   "metadata": {},
   "source": [
    "## Problem 2"
   ]
  },
  {
   "cell_type": "markdown",
   "metadata": {},
   "source": [
    "It would be great if we can identify a spot in Berkeley that has the densest cluster of spawn points. We will talk about clustering later, but for now, a simpler task we can do is to identify two spawn points that are closest to each other out of all spawn points. The distance between two points can be defined in many ways. We recommend you use the euclidean distance:\n",
    "\n",
    "$$\n",
    "    Euclidean\\enspace Distance = \\sqrt{(x_2-x_1)^2 + (y_2-y_1)^2}\n",
    "$$\n",
    "\n",
    "where x and y are your latitude and longitude coordinates.\n",
    "\n",
    "You may find the following functions helpful:\n",
    "\n",
    "1. np.zeros - initializes an array of zeros\n",
    "1. np.where - gives the index of where a certain value is located in an array\n",
    "1. np.min - returns the minimum value of a given array\n",
    "\n"
   ]
  },
  {
   "cell_type": "code",
   "execution_count": null,
   "metadata": {
    "collapsed": true
   },
   "outputs": [],
   "source": [
    "#Problem 2 Code Here"
   ]
  }
 ],
 "metadata": {
  "kernelspec": {
   "display_name": "Python 3",
   "language": "python",
   "name": "python3"
  },
  "language_info": {
   "codemirror_mode": {
    "name": "ipython",
    "version": 3
   },
   "file_extension": ".py",
   "mimetype": "text/x-python",
   "name": "python",
   "nbconvert_exporter": "python",
   "pygments_lexer": "ipython3",
   "version": "3.5.2"
  }
 },
 "nbformat": 4,
 "nbformat_minor": 0
}
